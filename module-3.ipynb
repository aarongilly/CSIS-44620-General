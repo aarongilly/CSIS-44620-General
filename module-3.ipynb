{
 "cells": [
  {
   "cell_type": "markdown",
   "id": "cef6bf95",
   "metadata": {},
   "source": [
    "# CSIS 44620 Module 3\n",
    "\n",
    "- Name: Aaron Gillespie\n",
    "- Github: "
   ]
  },
  {
   "cell_type": "code",
   "execution_count": null,
   "id": "670abd95",
   "metadata": {},
   "outputs": [],
   "source": [
    "from collections import Counter\n",
    "from random import randint\n",
    "import matplotlib.pyplot as plt\n",
    "\n",
    "print('All prereqs installed.')\n",
    "!pip list"
   ]
  }
 ],
 "metadata": {
  "language_info": {
   "name": "python"
  }
 },
 "nbformat": 4,
 "nbformat_minor": 5
}
